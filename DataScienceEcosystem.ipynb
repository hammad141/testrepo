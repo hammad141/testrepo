{
  "nbformat": 4,
  "nbformat_minor": 0,
  "metadata": {
    "colab": {
      "provenance": []
    },
    "kernelspec": {
      "name": "python3",
      "display_name": "Python 3"
    },
    "language_info": {
      "name": "python"
    }
  },
  "cells": [
    {
      "cell_type": "markdown",
      "source": [
        "Exercise 2: Create a markdown cell with title of notebook."
      ],
      "metadata": {
        "id": "2mlBztjbKGbf"
      }
    },
    {
      "cell_type": "markdown",
      "source": [
        "# Data Science Tools and Ecosystem\n"
      ],
      "metadata": {
        "id": "AGHKY20uITja"
      }
    },
    {
      "cell_type": "markdown",
      "source": [
        "Exercise 3 - Create a markdown cell for an introduction\n"
      ],
      "metadata": {
        "id": "oJx_ZyMxrbpg"
      }
    },
    {
      "cell_type": "markdown",
      "source": [
        "In this notebook, Data Science Tools and Ecosystem are summarized."
      ],
      "metadata": {
        "id": "zwhty3x8rqPU"
      }
    },
    {
      "cell_type": "markdown",
      "source": [
        "Exercise 10 - Insert a markdown cell to list Objectives"
      ],
      "metadata": {
        "id": "fodLnYEMy4q5"
      }
    },
    {
      "cell_type": "markdown",
      "source": [
        "**Objectives:**\n",
        "\n",
        "\n",
        "*   List popular languages for Data Science.\n",
        "*   List commonly used libraries for Data Science\n",
        "\n",
        "*   List Data Science Tools\n",
        "*   Arithmetic expressions\n",
        "\n",
        "\n"
      ],
      "metadata": {
        "id": "ahdzxdhI5crE"
      }
    },
    {
      "cell_type": "markdown",
      "source": [
        "Exercise 4 - Create a markdown cell to list data science languages"
      ],
      "metadata": {
        "id": "-VsNszJdsROK"
      }
    },
    {
      "cell_type": "markdown",
      "source": [
        "Some of the popular languages that Data Scientists use are:\n",
        "\n",
        "\n",
        "1.   Python\n",
        "\n",
        "1.   R\n",
        "2.   SQL\n",
        "\n",
        "1.   Java\n",
        "2.   Scala\n",
        "\n",
        "\n",
        "\n",
        "\n"
      ],
      "metadata": {
        "id": "NKIWB7gYsRKt"
      }
    },
    {
      "cell_type": "markdown",
      "source": [
        "Exercise 5 - Create a markdown cell to list data science libraries"
      ],
      "metadata": {
        "id": "8TsqjouXtiHi"
      }
    },
    {
      "cell_type": "markdown",
      "source": [
        "Some of the commonly used libraries used by Data Scientists include:\n",
        "\n",
        "\n",
        "1.   Pandas\n",
        "\n",
        "1.   Numpy\n",
        "2.   Matplotlib\n",
        "\n",
        "4.   Seaborn\n",
        "\n",
        "5.   Tensor flow\n",
        "6.   scikit-learn\n",
        "\n",
        "\n",
        "\n"
      ],
      "metadata": {
        "id": "1Gw3l4rutzsX"
      }
    },
    {
      "cell_type": "markdown",
      "source": [
        "Exercise 6 - Create a markdown cell with a table of Data Science tools"
      ],
      "metadata": {
        "id": "McsFntUku_45"
      }
    },
    {
      "cell_type": "markdown",
      "source": [
        "| Data Science Tools |\n",
        "| ------------------- |\n",
        "| Jupyter Notebook    |\n",
        "| RStudio             |\n",
        "| Visual Studio Code  |"
      ],
      "metadata": {
        "id": "ChtoBSMfwkBQ"
      }
    },
    {
      "cell_type": "markdown",
      "source": [
        "Exercise 7 - Create a markdown cell introducing arithmetic expression examples"
      ],
      "metadata": {
        "id": "_2VQMoIHwyQm"
      }
    },
    {
      "cell_type": "markdown",
      "source": [
        "### Arithmetic Expression Examples\n",
        "\n",
        "Below are a few examples of evaluating arithmetic expressions in Python:"
      ],
      "metadata": {
        "id": "dvV55UXjwyNL"
      }
    },
    {
      "cell_type": "markdown",
      "source": [
        "Exercise 8 - Create a code cell to multiply and add numbers"
      ],
      "metadata": {
        "id": "5o3vATdixnrU"
      }
    },
    {
      "cell_type": "code",
      "source": [
        "# This is a simple arithmetic expression to multiply then add integers.\n",
        "result = (3 * 4) + 5\n",
        "result\n"
      ],
      "metadata": {
        "colab": {
          "base_uri": "https://localhost:8080/"
        },
        "id": "tjP9XeT1yRTS",
        "outputId": "177fde87-05b3-4c32-ba9a-3529de45575a"
      },
      "execution_count": 1,
      "outputs": [
        {
          "output_type": "execute_result",
          "data": {
            "text/plain": [
              "17"
            ]
          },
          "metadata": {},
          "execution_count": 1
        }
      ]
    },
    {
      "cell_type": "markdown",
      "source": [
        "Exercise 9 - Create a code cell to convert minutes to hours"
      ],
      "metadata": {
        "id": "3VB7wyigxnoB"
      }
    },
    {
      "cell_type": "code",
      "source": [
        "# This will convert 200 minutes to hours by dividing by 60.\n",
        "minutes = 200\n",
        "hours = minutes / 60\n",
        "hours\n"
      ],
      "metadata": {
        "colab": {
          "base_uri": "https://localhost:8080/"
        },
        "id": "Qj0M6mOHylhv",
        "outputId": "8824d160-ea34-4f86-9756-dc4851906bf4"
      },
      "execution_count": 2,
      "outputs": [
        {
          "output_type": "execute_result",
          "data": {
            "text/plain": [
              "3.3333333333333335"
            ]
          },
          "metadata": {},
          "execution_count": 2
        }
      ]
    },
    {
      "cell_type": "markdown",
      "source": [
        "Exercise 11 - Create a markdown cell to indicate the Author's name"
      ],
      "metadata": {
        "id": "8WCkEBcqzEh8"
      }
    },
    {
      "cell_type": "markdown",
      "source": [
        "## Author\n",
        "Hammad Hassan"
      ],
      "metadata": {
        "id": "9sb3tLmd65EW"
      }
    }
  ]
}